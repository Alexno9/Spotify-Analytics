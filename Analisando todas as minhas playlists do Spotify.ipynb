{
 "cells": [
  {
   "cell_type": "code",
   "execution_count": 1,
   "metadata": {},
   "outputs": [],
   "source": [
    "# Código de conexão com API baseado no ótimo artigo do Gabriel Luz (Data Hackers):\n",
    "# https://medium.com/data-hackers/an%C3%A1lise-de-dados-de-uma-playlist-do-spotify-com-python-e-power-bi-b3149c2bd633"
   ]
  },
  {
   "cell_type": "markdown",
   "metadata": {},
   "source": [
    "#### 1º Case de Estudo - Buscando padrões de gosto nas minhas playlists do Spotify"
   ]
  },
  {
   "cell_type": "code",
   "execution_count": 13,
   "metadata": {},
   "outputs": [],
   "source": [
    "import sys\n",
    "\n",
    "import json\n",
    "import pandas as pd\n",
    "\n",
    "import spotipy\n",
    "import spotipy.util as util"
   ]
  },
  {
   "cell_type": "code",
   "execution_count": 17,
   "metadata": {},
   "outputs": [],
   "source": [
    "# id e secrets da api do spotify, cadastradas no site 'spotify developers'\n",
    "client_id = '535eb94db1a944e2a5ac5df95bbff061'\n",
    "client_secret = '40b6b65222014e6ea627b99e45f66171'\n",
    "redirect_uri = 'http://www.google.com'\n",
    "\n",
    "# username da conta, tipo de permissão que será abilitada pelo dono da conta\n",
    "username = 'alexeifloyd'\n",
    "scope = 'user-library-read playlist-read-private'"
   ]
  },
  {
   "cell_type": "code",
   "execution_count": 18,
   "metadata": {},
   "outputs": [
    {
     "name": "stdout",
     "output_type": "stream",
     "text": [
      "\n",
      "\n",
      "            User authentication requires interaction with your\n",
      "            web browser. Once you enter your credentials and\n",
      "            give authorization, you will be redirected to\n",
      "            a url.  Paste that url you were directed to to\n",
      "            complete the authorization.\n",
      "\n",
      "        \n",
      "Opened https://accounts.spotify.com/authorize?client_id=535eb94db1a944e2a5ac5df95bbff061&response_type=code&redirect_uri=http%3A%2F%2Fwww.google.com&scope=playlist-read-private+user-library-read in your browser\n",
      "\n",
      "\n",
      "Enter the URL you were redirected to: https://www.google.com/?code=AQBijm_RDmBZ-QZ0kwNtFnqDi6PVL3lIyW4lep-9txs-paEWuYFyBo2UzYIZrdAubgUOhKY1y39uDDpfvXYdL6P89hY4h9E5BEY6RV_nBGYNE91S8tFVdIiNwxjEnsa3ZpeclJXq19KRESgOdozFYJH4MwZmXYObqHKxfxDLJx_5IY9Q0fB0uCdtvu8duCTAuamvUC0ZNDoKo6Xoa4ABll-2TJj6o8FXbcW4M8uG-EpbrEKJkHCi\n",
      "\n",
      "\n"
     ]
    }
   ],
   "source": [
    "# Guarda em uma variável token todas as informações acima, gerando um pedido de autenticação\n",
    "\n",
    "try:\n",
    "    token = util.prompt_for_user_token(username, scope, client_id=client_id, client_secret=client_secret, redirect_uri=redirect_uri)\n",
    "    sp=spotipy.Spotify(auth= token)\n",
    "except:\n",
    "    print('Token is not accesible for ' + username)"
   ]
  },
  {
   "cell_type": "markdown",
   "metadata": {},
   "source": [
    "#### Capturando as informações de uma playlist e as features correspondentes"
   ]
  },
  {
   "cell_type": "code",
   "execution_count": 19,
   "metadata": {},
   "outputs": [],
   "source": [
    "def get_playlist_content(username, play_id, sp):\n",
    "    offset = 0\n",
    "    songs = []\n",
    "    while True:\n",
    "        content = sp.user_playlist_tracks(username, play_id, fields=None, limit=100, offset=offset, market=None)\n",
    "        songs += content['items']\n",
    "        if content['next'] is not None:\n",
    "            offset += 100\n",
    "        else:\n",
    "            break\n",
    "\n",
    "    with open('{}-{}.json'.format(username, play_id), 'w') as outfile:\n",
    "        json.dump(songs, outfile)"
   ]
  },
  {
   "cell_type": "code",
   "execution_count": 20,
   "metadata": {},
   "outputs": [],
   "source": [
    "def get_playlist_audio_features(username, play_id, sp):\n",
    "    offset = 0\n",
    "    songs = []\n",
    "    items = []\n",
    "    ids = []\n",
    "    while True:\n",
    "        content = sp.user_playlist_tracks(username, play_id, fields=None, limit=100, offset=offset, market=None)\n",
    "        songs += content['items']\n",
    "        if content['next'] is not None:\n",
    "            offset += 100\n",
    "        else:\n",
    "            break\n",
    "\n",
    "    for i in songs:\n",
    "        ids.append(i['track']['id'])\n",
    "\n",
    "    index = 0\n",
    "    audio_features = []\n",
    "    while index < len(ids):\n",
    "        audio_features += sp.audio_features(ids[index:index + 50])\n",
    "        index += 50\n",
    "\n",
    "    features_list = []\n",
    "    for features in audio_features:\n",
    "        features_list.append([features['energy'], features['liveness'],\n",
    "                              features['tempo'], features['speechiness'],\n",
    "                              features['acousticness'], features['instrumentalness'],\n",
    "                              features['time_signature'], features['danceability'],\n",
    "                              features['key'], features['duration_ms'],\n",
    "                              features['loudness'], features['valence'],\n",
    "                              features['mode'], features['type'],\n",
    "                              features['uri']])\n",
    "\n",
    "    df = pd.DataFrame(features_list, columns=['energy', 'liveness', 'tempo', 'speechiness', 'acousticness', \n",
    "                                              'instrumentalness', 'time_signature', 'danceability', 'key',\n",
    "                                              'duration_ms', 'loudness', 'valence', 'mode', 'type', 'uri'])\n",
    "    df.to_csv('{}-{}.csv'.format(username, play_id), index=False)"
   ]
  },
  {
   "cell_type": "code",
   "execution_count": 21,
   "metadata": {},
   "outputs": [],
   "source": [
    "def get_user_playlist(username, sp):\n",
    "        playlists = sp.user_playlists(username)\n",
    "        for playlist in playlists['items']:\n",
    "            print(\"Name: {}, Number of songs: {}, Playlist ID: {} \".\n",
    "                  format(playlist['name'].encode('utf8'), playlist['tracks']['total'], playlist['id']))\n",
    "            play_id = playlist['id']\n",
    "            print(\"Getting playlist content\")\n",
    "            get_playlist_content(username, play_id, sp)\n",
    "            print(\"Getting playlist audio features\")\n",
    "            get_playlist_audio_features(username, play_id, sp)"
   ]
  },
  {
   "cell_type": "code",
   "execution_count": 22,
   "metadata": {},
   "outputs": [
    {
     "name": "stdout",
     "output_type": "stream",
     "text": [
      "Getting user playlist\n",
      "Name: b'Na Hora H', Number of songs: 11, Playlist ID: 0p2qr9FmaUPvveDs2NdxbE \n",
      "Getting playlist content\n",
      "Getting playlist audio features\n",
      "Name: b'Psytrance Supernova', Number of songs: 70, Playlist ID: 37i9dQZF1DWXWbLEOaHnU3 \n",
      "Getting playlist content\n",
      "Getting playlist audio features\n",
      "Name: b'Mary Elizabeth McGlynn - Silent Hill \\xf0\\x9f\\x8c\\xab\\xf0\\x9f\\x92\\xa7\\xe2\\x9d\\x84\\xef\\xb8\\x8f', Number of songs: 16, Playlist ID: 7M1ENInXOBhepegWFdfLw4 \n",
      "Getting playlist content\n",
      "Getting playlist audio features\n",
      "Name: b'M\\xc3\\xbasicas de casamento - O Amor \\xc3\\xa9 Simples', Number of songs: 64, Playlist ID: 4EmIhy7DuTKFIxgujxW4S4 \n",
      "Getting playlist content\n",
      "Getting playlist audio features\n",
      "Name: b'Dark Souls', Number of songs: 18, Playlist ID: 0HyomGh26ecF1V2tRQ4iIC \n",
      "Getting playlist content\n",
      "Getting playlist audio features\n",
      "Name: b'Curtida no R\\xc3\\xa1dio', Number of songs: 31, Playlist ID: 52IXURukhNfGA3cyyNIOPW \n",
      "Getting playlist content\n",
      "Getting playlist audio features\n",
      "Name: b'Samurai Go Hard v.2', Number of songs: 72, Playlist ID: 5UweEtNsALPWXKaKrNRNbr \n",
      "Getting playlist content\n",
      "Getting playlist audio features\n",
      "Name: b'Ear Rape', Number of songs: 273, Playlist ID: 6HPVKo5u6gw03KTIW4B9zw \n",
      "Getting playlist content\n",
      "Getting playlist audio features\n",
      "Name: b'Fallout 3 & New Vegas', Number of songs: 34, Playlist ID: 0YuOICv0K5c8zod1SpMl33 \n",
      "Getting playlist content\n",
      "Getting playlist audio features\n",
      "Name: b\"20's 30's jazz\", Number of songs: 514, Playlist ID: 3GYnH5MfjWhJQ2P3lXZHXl \n",
      "Getting playlist content\n",
      "Getting playlist audio features\n",
      "Name: b'Discover Weekly', Number of songs: 30, Playlist ID: 37i9dQZEVXcJcOLR6rtkEV \n",
      "Getting playlist content\n",
      "Getting playlist audio features\n",
      "Name: b'Dark Souls', Number of songs: 366, Playlist ID: 3mfgCYESAj3XlbCi8zBcJV \n",
      "Getting playlist content\n",
      "Getting playlist audio features\n"
     ]
    }
   ],
   "source": [
    "if token:\n",
    "    \n",
    "    sp = spotipy.Spotify(auth=token)\n",
    "    \n",
    "    print(\"Getting user playlist\")\n",
    "    get_user_playlist(username, sp)\n",
    "    \n",
    "else:\n",
    "    print(\"Can't get token for\", username)"
   ]
  },
  {
   "cell_type": "markdown",
   "metadata": {},
   "source": [
    "#### Exemplo de teste"
   ]
  },
  {
   "cell_type": "code",
   "execution_count": null,
   "metadata": {},
   "outputs": [],
   "source": [
    "# Exemplo vindo da documentação da biblioteca\n",
    "\n",
    "def show_tracks(tracks):\n",
    "    for i, item in enumerate(tracks['items']):\n",
    "        track = item['track']\n",
    "        print(\"   %d %24.24s %s\" % (i, track['artists'][0]['name'], track['name']))\n",
    "\n",
    "if token:\n",
    "    sp = spotipy.Spotify(auth=token)\n",
    "    playlistss = sp.user_playlists(username)\n",
    "    for playlist in playlistss['items']:\n",
    "        if playlist['owner']['id'] == username:\n",
    "            print()\n",
    "            print(playlist['name'])\n",
    "            print('  Total Tracks:', playlist['tracks']['total'])\n",
    "            results = sp.user_playlist(username, playlist['id'],fields=\"tracks,next\")\n",
    "            tracks = results['tracks']\n",
    "            show_tracks(tracks)\n",
    "            while tracks['next']:\n",
    "                tracks = sp.next(tracks)\n",
    "                show_tracks(tracks)\n",
    "else:\n",
    "    print(\"Can't get token for\", username)"
   ]
  }
 ],
 "metadata": {
  "kernelspec": {
   "display_name": "Python 3",
   "language": "python",
   "name": "python3"
  },
  "language_info": {
   "codemirror_mode": {
    "name": "ipython",
    "version": 3
   },
   "file_extension": ".py",
   "mimetype": "text/x-python",
   "name": "python",
   "nbconvert_exporter": "python",
   "pygments_lexer": "ipython3",
   "version": "3.7.0"
  }
 },
 "nbformat": 4,
 "nbformat_minor": 2
}
